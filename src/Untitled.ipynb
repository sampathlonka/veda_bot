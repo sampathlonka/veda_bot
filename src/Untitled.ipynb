{
 "cells": [
  {
   "cell_type": "code",
   "execution_count": 6,
   "id": "37ec2bba-311b-4aa0-88a3-4fac3aebe14f",
   "metadata": {},
   "outputs": [
    {
     "data": {
      "text/plain": [
       "(22580, 22)"
      ]
     },
     "execution_count": 6,
     "metadata": {},
     "output_type": "execute_result"
    }
   ],
   "source": [
    "import pandas as pd\n",
    "# Read CSV file into a pandas DataFrame\n",
    "df = pd.read_csv(r'..\\Data\\veda_content_modified_v3.csv')\n",
    "df.shape"
   ]
  },
  {
   "cell_type": "code",
   "execution_count": 2,
   "id": "c889cb94-df5c-4bd6-90af-d99c42f312c9",
   "metadata": {},
   "outputs": [
    {
     "data": {
      "text/plain": [
       "(10552, 17)"
      ]
     },
     "execution_count": 2,
     "metadata": {},
     "output_type": "execute_result"
    }
   ],
   "source": [
    "df1 = df.drop(['created_by',\n",
    "       'created_timestamp', 'last_modified_by', 'last_modifiedtimestamp',\n",
    "       'is_Active'],axis=1)\n",
    "df2 = df1[df1['scripture_name']=='RigVeda']\n",
    "df2.shape"
   ]
  },
  {
   "cell_type": "code",
   "execution_count": 3,
   "id": "3384bdb8-4b44-4dfc-8d02-47c946b2b812",
   "metadata": {},
   "outputs": [],
   "source": [
    "df2.to_csv(r'..\\Data\\veda_content_rigveda_v3.csv',index=False,encoding='utf-8')"
   ]
  },
  {
   "cell_type": "code",
   "execution_count": 7,
   "id": "b54f2d3b-117d-4142-9968-d8dffeccabb2",
   "metadata": {},
   "outputs": [
    {
     "data": {
      "text/plain": [
       "(1975, 17)"
      ]
     },
     "execution_count": 7,
     "metadata": {},
     "output_type": "execute_result"
    }
   ],
   "source": [
    "df1 = df.drop(['created_by',\n",
    "       'created_timestamp', 'last_modified_by', 'last_modifiedtimestamp',\n",
    "       'is_Active'],axis=1)\n",
    "df2 = df1[df1['scripture_name']=='ShuklaYajurVeda']\n",
    "df2.shape"
   ]
  },
  {
   "cell_type": "code",
   "execution_count": 8,
   "id": "6e90d6e8-7394-4469-b1fa-67d91ce01a86",
   "metadata": {},
   "outputs": [],
   "source": [
    "df2.to_csv(r'..\\Data\\veda_content_ShuklaYajurVeda_v3.csv',index=False,encoding='utf-8')"
   ]
  },
  {
   "cell_type": "code",
   "execution_count": null,
   "id": "39056854-e760-48a1-9115-d3bea419b300",
   "metadata": {},
   "outputs": [],
   "source": []
  }
 ],
 "metadata": {
  "kernelspec": {
   "display_name": "Python 3 (ipykernel)",
   "language": "python",
   "name": "python3"
  },
  "language_info": {
   "codemirror_mode": {
    "name": "ipython",
    "version": 3
   },
   "file_extension": ".py",
   "mimetype": "text/x-python",
   "name": "python",
   "nbconvert_exporter": "python",
   "pygments_lexer": "ipython3",
   "version": "3.12.2"
  }
 },
 "nbformat": 4,
 "nbformat_minor": 5
}
